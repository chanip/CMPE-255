{
 "cells": [
  {
   "cell_type": "code",
   "execution_count": 26,
   "metadata": {},
   "outputs": [],
   "source": [
    "import pandas as pd\n",
    "import numpy as np\n",
    "from sklearn.preprocessing import StandardScaler\n",
    "from sklearn import tree\n",
    "import pandas as pd\n",
    "import numpy as np\n",
    "from sklearn.neighbors import KNeighborsClassifier\n",
    "from sklearn.decomposition import PCA, TruncatedSVD\n",
    "from sklearn.model_selection import train_test_split\n",
    "import tensorflow as tf\n",
    "from tensorflow.keras import datasets, layers, models\n",
    "import matplotlib.pyplot as plt\n",
    "from sklearn.decomposition import PCA\n",
    "from sklearn import tree\n",
    "from sklearn.metrics import f1_score\n",
    "\n",
    "\n",
    "train_df = pd.read_csv(\"data/train.dat\",header=None, delimiter=r\"\\s+\", dtype=float)\n",
    "X = train_df.values\n",
    "\n",
    "train_labels_df = pd.read_csv(\"data/train.labels\", header=None, delimiter=r\"\\s+\", dtype=int)\n",
    "Y = np.concatenate(np.array(train_labels_df.values), axis=0)\n",
    "\n",
    "test_df = pd.read_csv(\"data/test.dat\", header=None, delimiter=r\"\\s+\", dtype=float)\n",
    "test = test_df.values\n",
    "\n"
   ]
  },
  {
   "cell_type": "markdown",
   "metadata": {},
   "source": [
    "# data-preporcessing\n"
   ]
  },
  {
   "cell_type": "code",
   "execution_count": 22,
   "metadata": {},
   "outputs": [],
   "source": [
    "# delete the class :6,11,10,7\n",
    "delete = [6,11,10,7]\n",
    "df1 = pd.DataFrame(X)\n",
    "df1['class'] = Y\n",
    "\n",
    "#df1 = df1[df1[\"class\"] !=6]\n",
    "#df1 = df1[df1[\"class\"] !=7]\n",
    "df1 = df1[df1[\"class\"] !=10]\n",
    "#df1 = df1[df1[\"class\"] !=11]\n",
    "\n",
    "Y = df1[\"class\"].values\n",
    "df1= df1.drop([\"class\"], axis=1)\n",
    "X = df1.values"
   ]
  },
  {
   "cell_type": "code",
   "execution_count": 23,
   "metadata": {},
   "outputs": [],
   "source": [
    "#SMOTE\n",
    "#!pip install imbalanced-learn\n",
    "#!pip install delayed\n",
    "#!pip install sklearn.utils.fixes\n",
    "from imblearn.over_sampling import SMOTE\n",
    "\n",
    "oversample = SMOTE()\n",
    "X, Y = oversample.fit_resample(X, Y)"
   ]
  },
  {
   "cell_type": "code",
   "execution_count": 27,
   "metadata": {},
   "outputs": [],
   "source": [
    "# K-Neighbors\n",
    "\n",
    "kclf = KNeighborsClassifier(n_neighbors=4)\n",
    "kclf = kclf.fit(X, Y)\n",
    "y_pred = kclf.predict(test)"
   ]
  },
  {
   "cell_type": "code",
   "execution_count": 28,
   "metadata": {},
   "outputs": [],
   "source": [
    "# write data into correct format\n",
    "np.savetxt('K4.dat', y_pred, delimiter=',',fmt='%i')"
   ]
  },
  {
   "cell_type": "code",
   "execution_count": null,
   "metadata": {},
   "outputs": [],
   "source": []
  }
 ],
 "metadata": {
  "kernelspec": {
   "display_name": "Python 3",
   "language": "python",
   "name": "python3"
  },
  "language_info": {
   "codemirror_mode": {
    "name": "ipython",
    "version": 3
   },
   "file_extension": ".py",
   "mimetype": "text/x-python",
   "name": "python",
   "nbconvert_exporter": "python",
   "pygments_lexer": "ipython3",
   "version": "3.8.5"
  }
 },
 "nbformat": 4,
 "nbformat_minor": 4
}
