{
 "cells": [
  {
   "cell_type": "code",
   "execution_count": 1,
   "metadata": {},
   "outputs": [],
   "source": [
    "import pandas as pd\n",
    "import numpy as np\n",
    "from sklearn.preprocessing import StandardScaler\n",
    "from sklearn import tree\n",
    "import pandas as pd\n",
    "import numpy as np\n",
    "from sklearn.neighbors import KNeighborsClassifier\n",
    "from sklearn.decomposition import PCA, TruncatedSVD\n",
    "from sklearn.model_selection import train_test_split\n",
    "import tensorflow as tf\n",
    "from tensorflow.keras import datasets, layers, models\n",
    "import matplotlib.pyplot as plt\n",
    "from sklearn.decomposition import PCA\n",
    "from sklearn import tree\n",
    "from sklearn.metrics import f1_score\n",
    "\n",
    "\n",
    "train_df = pd.read_csv(\"data/train.dat\",header=None, delimiter=r\"\\s+\", dtype=float)\n",
    "X = train_df.values\n",
    "\n",
    "train_labels_df = pd.read_csv(\"data/train.labels\", header=None, delimiter=r\"\\s+\", dtype=int)\n",
    "Y = np.concatenate(np.array(train_labels_df.values), axis=0)\n",
    "\n",
    "test_df = pd.read_csv(\"data/test.dat\", header=None, delimiter=r\"\\s+\", dtype=float)\n",
    "test = test_df.values\n",
    "\n"
   ]
  },
  {
   "cell_type": "code",
   "execution_count": 2,
   "metadata": {},
   "outputs": [
    {
     "name": "stdout",
     "output_type": "stream",
     "text": [
      "Counter({1: 10375, 2: 7646, 3: 1743, 8: 850, 4: 294, 5: 198, 7: 52, 6: 18, 11: 7, 10: 3})\n",
      "len: 21186\n"
     ]
    }
   ],
   "source": [
    "from collections import Counter\n",
    "c = Counter(Y )   \n",
    "print(c)\n",
    "print(\"len:\",len(Y))"
   ]
  },
  {
   "cell_type": "markdown",
   "metadata": {},
   "source": [
    "# data-preporcessing\n"
   ]
  },
  {
   "cell_type": "code",
   "execution_count": 3,
   "metadata": {},
   "outputs": [],
   "source": [
    "# delete the class :6,11,10,7\n",
    "delete = [6,11,10,7]\n",
    "df1 = pd.DataFrame(X)\n",
    "df1['class'] = Y\n",
    "\n",
    "df1 = df1[df1[\"class\"] !=6]\n",
    "#df1 = df1[df1[\"class\"] !=7]\n",
    "df1 = df1[df1[\"class\"] !=10]\n",
    "df1 = df1[df1[\"class\"] !=11]\n",
    "\n",
    "Y = df1[\"class\"].values\n",
    "df1= df1.drop([\"class\"], axis=1)\n",
    "X = df1.values"
   ]
  },
  {
   "cell_type": "code",
   "execution_count": 4,
   "metadata": {},
   "outputs": [],
   "source": [
    "#SMOTE\n",
    "#!pip install imbalanced-learn\n",
    "#!pip install delayed\n",
    "#!pip install sklearn.utils.fixes\n",
    "from imblearn.over_sampling import SMOTE\n",
    "\n",
    "oversample = SMOTE()\n",
    "X, Y = oversample.fit_resample(X, Y)"
   ]
  },
  {
   "cell_type": "code",
   "execution_count": 5,
   "metadata": {},
   "outputs": [
    {
     "name": "stdout",
     "output_type": "stream",
     "text": [
      "Counter({2: 10375, 1: 10375, 3: 10375, 8: 10375, 4: 10375, 5: 10375, 7: 10375})\n",
      "len: 72625\n"
     ]
    }
   ],
   "source": [
    "c = Counter(Y )   \n",
    "print(c)\n",
    "print(\"len:\",len(Y))"
   ]
  },
  {
   "cell_type": "code",
   "execution_count": 6,
   "metadata": {},
   "outputs": [],
   "source": [
    "#pca = PCA(n_components = 0.70)\n",
    "#pca = PCA(n_components=100)\n",
    "#X= pca.fit_transform(X)\n",
    "\n",
    "#pca.fit(X_test)\n",
    "#pca_X_test = pca.transform(X_test)\n"
   ]
  },
  {
   "cell_type": "code",
   "execution_count": 7,
   "metadata": {},
   "outputs": [],
   "source": [
    "# only use train data to test out models\n",
    "X_train, X_test, y_train, y_test = train_test_split(X, Y, test_size=0.3, random_state=42)\n"
   ]
  },
  {
   "cell_type": "code",
   "execution_count": 8,
   "metadata": {},
   "outputs": [],
   "source": [
    "modes = ['K-Neighbors','Random Forest','DecisionTree','Naive Bayes','SVM','LDA','XGBoost']\n",
    "F1 = []"
   ]
  },
  {
   "cell_type": "code",
   "execution_count": 9,
   "metadata": {},
   "outputs": [],
   "source": [
    "# K-Neighbors\n",
    "kclf = KNeighborsClassifier(n_neighbors=10)\n",
    "\n",
    "kclf = kclf.fit(X_train, y_train)\n",
    "y_pred = kclf.predict(X_test)\n",
    "score = f1_score(y_test, y_pred, average='micro')\n",
    "F1.append(score)"
   ]
  },
  {
   "cell_type": "code",
   "execution_count": 10,
   "metadata": {},
   "outputs": [],
   "source": [
    "# write data into correct format\n",
    "np.savetxt('K_pca50.dat', y_pred, delimiter=',',fmt='%i')"
   ]
  },
  {
   "cell_type": "code",
   "execution_count": 11,
   "metadata": {},
   "outputs": [
    {
     "data": {
      "text/plain": [
       "\"\\n# ANN\\n!pip install keras\\nfrom keras.models import Sequential\\nfrom keras.layers import Dense\\n\\nmodel = Sequential()\\nmodel.add(Dense(887, input_dim=887, activation='relu'))\\nmodel.add(Dense(600, activation='relu'))\\nmodel.add(Dense(400, activation='relu'))\\nmodel.add(Dense(200, activation='relu'))\\nmodel.add(Dense(50, activation='relu'))\\n\\n\\nmodel.compile(loss='binary_crossentropy', optimizer='adam', metrics=['accuracy'])\\nmodel.fit(X, Y, epochs=150, batch_size=10)\\npredictions = model.predict(X_test)\\n\""
      ]
     },
     "execution_count": 11,
     "metadata": {},
     "output_type": "execute_result"
    }
   ],
   "source": [
    "\"\"\"\n",
    "# ANN\n",
    "!pip install keras\n",
    "from keras.models import Sequential\n",
    "from keras.layers import Dense\n",
    "\n",
    "model = Sequential()\n",
    "model.add(Dense(887, input_dim=887, activation='relu'))\n",
    "model.add(Dense(600, activation='relu'))\n",
    "model.add(Dense(400, activation='relu'))\n",
    "model.add(Dense(200, activation='relu'))\n",
    "model.add(Dense(50, activation='relu'))\n",
    "\n",
    "\n",
    "model.compile(loss='binary_crossentropy', optimizer='adam', metrics=['accuracy'])\n",
    "model.fit(X, Y, epochs=150, batch_size=10)\n",
    "predictions = model.predict(X_test)\n",
    "\"\"\""
   ]
  },
  {
   "cell_type": "code",
   "execution_count": 12,
   "metadata": {},
   "outputs": [],
   "source": [
    "# Random Forest\n",
    "from sklearn.ensemble import RandomForestClassifier\n",
    "from sklearn.datasets import make_classification\n",
    "clf = RandomForestClassifier(max_depth=2, random_state=0)\n",
    "clf.fit(X_train,y_train)\n",
    "y_pred = clf.predict(X_test)\n",
    "score = f1_score(y_test, y_pred, average='micro')\n",
    "F1.append(score)"
   ]
  },
  {
   "cell_type": "code",
   "execution_count": null,
   "metadata": {},
   "outputs": [],
   "source": []
  },
  {
   "cell_type": "code",
   "execution_count": 13,
   "metadata": {},
   "outputs": [],
   "source": [
    "# DecisionTree\n",
    "from sklearn.tree import DecisionTreeRegressor\n",
    "from sklearn.ensemble import RandomForestRegressor\n",
    "from sklearn.ensemble import ExtraTreesRegressor\n",
    "rf1=DecisionTreeRegressor()\n",
    "#rf2=RandomForestRegressor(n_estimators=1000)          \n",
    "#rf3=ExtraTreesRegressor()\n",
    " \n",
    " \n",
    "y_pred =rf1.fit(X_train,y_train).predict(X_test)\n",
    "\n",
    "#y_rf2 =rf2.fit(X,Y).predict(X_test)\n",
    "#y_rf3 =rf3.fit(X,Y).predict(X_test)\n",
    "#score = f1_score(y_test, y_pred, average='micro')\n",
    "score = f1_score(y_test, y_pred, average='micro')\n",
    "F1.append(score)"
   ]
  },
  {
   "cell_type": "code",
   "execution_count": null,
   "metadata": {},
   "outputs": [],
   "source": []
  },
  {
   "cell_type": "code",
   "execution_count": 14,
   "metadata": {},
   "outputs": [],
   "source": [
    "# naive bayes\n",
    "from sklearn.naive_bayes import GaussianNB\n",
    "clf = GaussianNB()\n",
    "clf.fit(X_train,y_train)\n",
    "y_pred = clf.predict(X_test)\n",
    "score = f1_score(y_test, y_pred, average='micro')\n",
    "F1.append(score)"
   ]
  },
  {
   "cell_type": "code",
   "execution_count": 15,
   "metadata": {},
   "outputs": [],
   "source": [
    "#SVM\n",
    "from sklearn import svm\n",
    "#clf = svm.SVC(C=0.1, kernel='linear', decision_function_shape='ovr')\n",
    "clf = svm.SVC(C=0.8, kernel='rbf', gamma=20, decision_function_shape='ovr')\n",
    "clf.fit(X_train,y_train)\n",
    "y_pred = clf.predict(X_test)\n",
    "score = f1_score(y_test, y_pred, average='micro')\n",
    "F1.append(score)"
   ]
  },
  {
   "cell_type": "code",
   "execution_count": 16,
   "metadata": {},
   "outputs": [],
   "source": [
    "# LDA\n",
    "from sklearn.discriminant_analysis import LinearDiscriminantAnalysis\n",
    "clf = LinearDiscriminantAnalysis()\n",
    "clf.fit(X_train,y_train)\n",
    "y_pred = clf.predict(X_test)\n",
    "score = f1_score(y_test, y_pred, average='micro')\n",
    "F1.append(score)"
   ]
  },
  {
   "cell_type": "code",
   "execution_count": null,
   "metadata": {},
   "outputs": [],
   "source": []
  },
  {
   "cell_type": "code",
   "execution_count": 17,
   "metadata": {},
   "outputs": [],
   "source": [
    "# write data into correct format\n",
    "#np.savetxt('LDA.dat', y_pred, delimiter=',',fmt='%i')\n"
   ]
  },
  {
   "cell_type": "code",
   "execution_count": 18,
   "metadata": {},
   "outputs": [
    {
     "name": "stdout",
     "output_type": "stream",
     "text": [
      "Requirement already satisfied: xgboost in c:\\users\\chanip\\anaconda3\\lib\\site-packages (1.4.1)\n",
      "Requirement already satisfied: numpy in c:\\users\\chanip\\anaconda3\\lib\\site-packages (from xgboost) (1.19.2)\n",
      "Requirement already satisfied: scipy in c:\\users\\chanip\\anaconda3\\lib\\site-packages (from xgboost) (1.5.2)\n",
      "[17:51:08] WARNING: C:/Users/Administrator/workspace/xgboost-win64_release_1.4.0/src/objective/regression_obj.cu:171: reg:linear is now deprecated in favor of reg:squarederror.\n",
      "[17:51:08] WARNING: C:/Users/Administrator/workspace/xgboost-win64_release_1.4.0/src/learner.cc:573: \n",
      "Parameters: { \"enable_categorical\" } might not be used.\n",
      "\n",
      "  This may not be accurate due to some parameters are only used in language bindings but\n",
      "  passed down to XGBoost core.  Or some parameters are not used but slip through this\n",
      "  verification. Please open an issue if you find above cases.\n",
      "\n",
      "\n",
      "classification accuracy: 0.5623278869102258\n"
     ]
    }
   ],
   "source": [
    "#xgboost\n",
    "!pip install xgboost\n",
    "import xgboost as xgb\n",
    "\n",
    "\n",
    "data_dmatrix = xgb.DMatrix(data=X_train,label=y_train) \n",
    "xg_reg = xgb.XGBRegressor(objective ='reg:linear', colsample_bytree = 0.6, learning_rate = 0.05,\n",
    "                max_depth = 31, alpha = 1, n_estimators = 50, enable_categorical = True)\n",
    "xg_reg.fit(X_train,y_train)\n",
    "\n",
    "y_pred = xg_reg.predict(X_test)\n",
    "y_pred = y_pred.round(0)\n",
    "y_pred  = y_pred.astype(int)\n",
    "def accuracy(y_true, y_pred):\n",
    "    accuracy = np.sum(y_true == y_pred) / len(y_true)\n",
    "    return accuracy\n",
    "print(\"classification accuracy:\", accuracy(y_test, y_pred)) \n",
    "\n",
    "score = f1_score(y_test, y_pred, average='micro')\n",
    "F1.append(score)"
   ]
  },
  {
   "cell_type": "code",
   "execution_count": null,
   "metadata": {},
   "outputs": [],
   "source": []
  },
  {
   "cell_type": "code",
   "execution_count": 19,
   "metadata": {},
   "outputs": [
    {
     "name": "stdout",
     "output_type": "stream",
     "text": [
      "['K-Neighbors', 'Random Forest', 'DecisionTree', 'Naive Bayes', 'SVM', 'LDA', 'XGBoost']\n",
      "[0.8626767027721681, 0.416743161373233, 0.8168257756563246, 0.43441343859004955, 0.8373416559574077, 0.18087938314668625, 0.5623278869102258]\n"
     ]
    }
   ],
   "source": [
    "print(modes) \n",
    "print(F1)"
   ]
  },
  {
   "cell_type": "code",
   "execution_count": 21,
   "metadata": {},
   "outputs": [
    {
     "data": {
      "image/png": "[encoded data removed]",
      "text/plain": [
       "<Figure size 1000x500 with 1 Axes>"
      ]
     },
     "metadata": {},
     "output_type": "display_data"
    }
   ],
   "source": [
    "import matplotlib.pyplot as plt; plt.rcdefaults()\n",
    "import numpy as np\n",
    "import matplotlib.pyplot as plt\n",
    "fig= plt.figure(figsize=(10,5))\n",
    "y_pos = np.arange(len(modes))\n",
    "\n",
    "plt.bar(modes, F1, align='center', alpha=0.5)\n",
    "plt.xticks(y_pos, modes)\n",
    "plt.ylabel('F1-score')\n",
    "plt.title('Performance for different models with SMOTE without PCA ')\n",
    "plt.show()"
   ]
  },
  {
   "cell_type": "code",
   "execution_count": null,
   "metadata": {},
   "outputs": [],
   "source": []
  },
  {
   "cell_type": "code",
   "execution_count": null,
   "metadata": {},
   "outputs": [],
   "source": []
  }
 ],
 "metadata": {
  "kernelspec": {
   "display_name": "Python 3",
   "language": "python",
   "name": "python3"
  },
  "language_info": {
   "codemirror_mode": {
    "name": "ipython",
    "version": 3
   },
   "file_extension": ".py",
   "mimetype": "text/x-python",
   "name": "python",
   "nbconvert_exporter": "python",
   "pygments_lexer": "ipython3",
   "version": "3.8.5"
  }
 },
 "nbformat": 4,
 "nbformat_minor": 4
}
